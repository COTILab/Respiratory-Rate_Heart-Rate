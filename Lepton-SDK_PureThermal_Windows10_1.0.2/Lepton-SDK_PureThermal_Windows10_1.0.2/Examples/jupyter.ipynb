{
 "cells": [
  {
   "cell_type": "markdown",
   "metadata": {},
   "source": [
    "# Interacting with the Lepton from Python\n",
    "\n",
    "If you're new to Jupyter these are the basics. Code is organized into \"cells\" which are blocks of code that can \n",
    "be run one at a time, in any order.\n",
    "You can execute blocks by highlighting the cell and entering shift+enter or by clicking Run > Run Selected Cells.\n",
    "\n",
    "Note that a line begining with `!` will be executed in the shell/command prompt of your system. Use the following cell to make\n",
    "sure you have all of the dependencies of this notebook."
   ]
  },
  {
   "cell_type": "code",
   "execution_count": null,
   "metadata": {},
   "outputs": [],
   "source": [
    "! python -m pip install pythonnet \n",
    "! python -m pip install numpy \n",
    "! python -m pip install matplotlib "
   ]
  },
  {
   "cell_type": "markdown",
   "metadata": {},
   "source": [
    "## Setup Python's path for the Lepton .NET dlls\n",
    "\n",
    "Note that because this is a .NET library, it uses .NET naming conventions \n",
    "and requires importing `clr` (provided by the `pythonnet` package on pip).\n",
    "\n",
    "This first cell adds the right version (64 bit vs 32 bit) of the library to \n",
    "python's path based on the bit-depth of the python thats currently running. "
   ]
  },
  {
   "cell_type": "code",
   "execution_count": 1,
   "metadata": {},
   "outputs": [],
   "source": [
    "import clr # needs the \"pythonnet\" package\n",
    "import sys\n",
    "import os\n",
    "import time\n",
    "\n",
    "# check whether python is running as 64bit or 32bit\n",
    "# to import the right .NET dll\n",
    "import platform\n",
    "bits, name = platform.architecture()\n",
    "\n",
    "if bits == \"64bit\":\n",
    "\tfolder = [\"x64\"]\n",
    "else:\n",
    "\tfolder = [\"x86\"]\n",
    "\n",
    "sys.path.append(os.path.join(\"..\", *folder))"
   ]
  },
  {
   "cell_type": "markdown",
   "metadata": {},
   "source": [
    "## Import the CCI SDK"
   ]
  },
  {
   "cell_type": "code",
   "execution_count": 2,
   "metadata": {},
   "outputs": [],
   "source": [
    "# AddReference makes the following `From Lepton ...` line \n",
    "# run by hooking the LeptonUVC dll into the python import \n",
    "# mechanism\n",
    "clr.AddReference(\"LeptonUVC\")\n",
    "\n",
    "from Lepton import CCI"
   ]
  },
  {
   "cell_type": "markdown",
   "metadata": {},
   "source": [
    "Look for a PureThermal USB device."
   ]
  },
  {
   "cell_type": "code",
   "execution_count": 60,
   "metadata": {},
   "outputs": [],
   "source": [
    "found_device = None\n",
    "for device in CCI.GetDevices():\n",
    "    if device.Name.startswith(\"PureThermal\"):\n",
    "        found_device = device\n",
    "        break\n",
    "\n",
    "if not found_device:\n",
    "    print(\"Couldn't find lepton device\")\n",
    "else:\n",
    "    lep = found_device.Open()"
   ]
  },
  {
   "cell_type": "markdown",
   "metadata": {},
   "source": [
    "Get the current camera uptime. This is a good way to test if the \n",
    "connection is working."
   ]
  },
  {
   "cell_type": "code",
   "execution_count": 61,
   "metadata": {},
   "outputs": [
    {
     "data": {
      "text/plain": [
       "'SwVersion{gpp_major=3, gpp_minor=3, gpp_build=22, dsp_major=3, dsp_minor=3, dsp_build=22, reserved=0}'"
      ]
     },
     "execution_count": 61,
     "metadata": {},
     "output_type": "execute_result"
    }
   ],
   "source": [
    "str(lep.oem.GetSoftwareVersion())"
   ]
  },
  {
   "cell_type": "code",
   "execution_count": 4,
   "metadata": {},
   "outputs": [
    {
     "data": {
      "text/plain": [
       "91457"
      ]
     },
     "execution_count": 4,
     "metadata": {},
     "output_type": "execute_result"
    }
   ],
   "source": [
    "lep.sys.GetCameraUpTime()"
   ]
  },
  {
   "cell_type": "markdown",
   "metadata": {},
   "source": [
    "Run a FFC. If this command executes successfully, the shutter on the lepton should close and open."
   ]
  },
  {
   "cell_type": "code",
   "execution_count": 5,
   "metadata": {},
   "outputs": [],
   "source": [
    "lep.sys.RunFFCNormalization()"
   ]
  },
  {
   "cell_type": "markdown",
   "metadata": {},
   "source": [
    "Get the current palette (**P**seudo-**color** **L**ook **U**p **T**able)"
   ]
  },
  {
   "cell_type": "code",
   "execution_count": 59,
   "metadata": {},
   "outputs": [
    {
     "data": {
      "text/plain": [
       "1"
      ]
     },
     "execution_count": 59,
     "metadata": {},
     "output_type": "execute_result"
    }
   ],
   "source": [
    "lep.vid.GetPcolorLut()"
   ]
  },
  {
   "cell_type": "code",
   "execution_count": 56,
   "metadata": {},
   "outputs": [],
   "source": [
    "lep.sys.SetGainMode(CCI.Sys.GainMode.LOW)"
   ]
  },
  {
   "cell_type": "markdown",
   "metadata": {},
   "source": [
    "You can assign the palette with either its index or\n",
    "its name"
   ]
  },
  {
   "cell_type": "code",
   "execution_count": 58,
   "metadata": {},
   "outputs": [],
   "source": [
    "lep.vid.SetPcolorLut(1)\n"
   ]
  },
  {
   "cell_type": "markdown",
   "metadata": {},
   "source": [
    "The full list of available palettes is:"
   ]
  },
  {
   "cell_type": "code",
   "execution_count": 8,
   "metadata": {},
   "outputs": [
    {
     "data": {
      "text/plain": [
       "['WHEEL6_LUT',\n",
       " 'FUSION_LUT',\n",
       " 'RAINBOW_LUT',\n",
       " 'GLOBOW_LUT',\n",
       " 'SEPIA_LUT',\n",
       " 'COLOR_LUT',\n",
       " 'ICE_FIRE_LUT',\n",
       " 'RAIN_LUT',\n",
       " 'USER_LUT']"
      ]
     },
     "execution_count": 8,
     "metadata": {},
     "output_type": "execute_result"
    }
   ],
   "source": [
    "from System import Enum\n",
    "list(Enum.GetNames(CCI.Vid.PcolorLut))"
   ]
  },
  {
   "cell_type": "markdown",
   "metadata": {},
   "source": [
    "## Streaming frames from the Lepton\n",
    "\n",
    "Make sure to keep track of the capture object because creating more than one instance\n",
    "of it during a single session can cause problems. \n",
    "\n",
    "IR16Filters is a library for grabbing Y16 (16 bit greyscale) images from a webcam\n",
    "because most webcam libraries don't support this format.\n",
    "\n",
    "numpy is a library for number crunching in python that we can use to hold incomming \n",
    "images as 2-dimensional arrays, and matplotlib supports displaying and colorizing \n",
    "incomming images."
   ]
  },
  {
   "cell_type": "code",
   "execution_count": 9,
   "metadata": {},
   "outputs": [],
   "source": [
    "clr.AddReference(\"ManagedIR16Filters\")\n",
    "from IR16Filters import IR16Capture, NewIR16FrameEvent, NewBytesFrameEvent\n",
    "\n",
    "import numpy\n",
    "from matplotlib import pyplot as plt\n",
    "# %matplotlib inline is Jupyter magic to display plot results inline in the \n",
    "# notebook\n",
    "%matplotlib inline\n",
    "\n",
    "capture = None"
   ]
  },
  {
   "cell_type": "markdown",
   "metadata": {},
   "source": [
    "Start saving incomming images in a queue with a max size so we don't \n",
    "use too much memory. Set maxlen higher values to keep more history. "
   ]
  },
  {
   "cell_type": "code",
   "execution_count": 10,
   "metadata": {},
   "outputs": [],
   "source": [
    "from collections import deque\n",
    "\n",
    "# change maxlen to control the number of frames of history we want to keep\n",
    "incoming_frames = deque(maxlen=10)\n",
    "def got_a_frame(short_array, width, height):\n",
    "    incoming_frames.append((height, width, short_array))\n",
    "\n",
    "if capture != None:\n",
    "    # don't recreate capture if we already made one\n",
    "    capture.RunGraph()\n",
    "else:\n",
    "    capture = IR16Capture()\n",
    "    capture.SetupGraphWithBytesCallback(NewBytesFrameEvent(got_a_frame))\n",
    "    capture.RunGraph()"
   ]
  },
  {
   "cell_type": "markdown",
   "metadata": {},
   "source": [
    "Skip executing the next cell to keep `incomming_frames`\n",
    "always stocked with new images"
   ]
  },
  {
   "cell_type": "code",
   "execution_count": 11,
   "metadata": {},
   "outputs": [
    {
     "data": {
      "text/plain": [
       "True"
      ]
     },
     "execution_count": 11,
     "metadata": {},
     "output_type": "execute_result"
    }
   ],
   "source": [
    "capture.StopGraph()"
   ]
  },
  {
   "cell_type": "code",
   "execution_count": 11,
   "metadata": {},
   "outputs": [],
   "source": [
    "def short_array_to_numpy(height, width, frame):\n",
    "    return numpy.fromiter(frame, dtype=\"uint16\").reshape(height, width)"
   ]
  },
  {
   "cell_type": "markdown",
   "metadata": {},
   "source": [
    "Grab the most recent image in the queue (python indexes negative numbers\n",
    "backwards from the end of arrays) and display it with matplotlib.\n",
    "\n",
    "If the graph is currently running, this should update the frame everytime you\n",
    "re-run the following cell. "
   ]
  },
  {
   "cell_type": "code",
   "execution_count": 12,
   "metadata": {},
   "outputs": [
    {
     "data": {
      "text/plain": [
       "<matplotlib.image.AxesImage at 0xf2f3f30>"
      ]
     },
     "execution_count": 12,
     "metadata": {},
     "output_type": "execute_result"
    },
    {
     "data": {
      "image/png": "[encoded data removed]",
      "text/plain": [
       "<Figure size 432x288 with 1 Axes>"
      ]
     },
     "metadata": {},
     "output_type": "display_data"
    }
   ],
   "source": [
    "from matplotlib import cm\n",
    "\n",
    "height, width, net_array = incoming_frames[-1]\n",
    "arr = short_array_to_numpy(height, width, net_array)\n",
    "\n",
    "plt.imshow(arr, cmap=cm.plasma)"
   ]
  },
  {
   "cell_type": "markdown",
   "metadata": {},
   "source": [
    "You can show the image with a variety of different colormaps. This doesn't use the lepton\n",
    "palette, because we are getting the raw 16-bit image and matplotlib is colorizing it for display purposes. \n",
    "\n",
    "`cm.viridis` and `cm.plasma` are both perceptually uniform and should use most of their colorspaces. `cm.bwr` gives a nice hot and cold effect. A full list of avaiable colormaps can be found in \n",
    "the matplotlib docs:\n",
    "[matplotlib.org/examples/color/colormaps_reference.html](https://matplotlib.org/examples/color/colormaps_reference.html)"
   ]
  },
  {
   "cell_type": "markdown",
   "metadata": {},
   "source": [
    "## Dealing with temperatures\n",
    "\n",
    "If you are using a Lepton 2.5 or 3.5, radiometry should be enabled. When radiometry is on, \n",
    "pixel values are in centikelvin so that they can be represented by unsigned 16 bit integers.\n",
    "Note that 100cK = 1K. \n",
    "Converting to Celcius can be done by dividing by 100 and subtracting absolute zero as shown below.\n",
    "\n",
    "The following only works if the camera supports tlinear. Use the block \n",
    "below to test support."
   ]
  },
  {
   "cell_type": "code",
   "execution_count": 13,
   "metadata": {},
   "outputs": [
    {
     "name": "stdout",
     "output_type": "stream",
     "text": [
      "this lepton supports tlinear\n"
     ]
    }
   ],
   "source": [
    "try:\n",
    "    lep.rad.SetTLinearEnableStateChecked(True)\n",
    "    print(\"this lepton supports tlinear\")\n",
    "except:\n",
    "    print(\"this lepton does not support tlinear\")"
   ]
  },
  {
   "cell_type": "code",
   "execution_count": 14,
   "metadata": {},
   "outputs": [
    {
     "name": "stdout",
     "output_type": "stream",
     "text": [
      "maximum temp 88.77 ºF / 31.54 ºC\n",
      "average temp 72.65 ºF / 22.58 ºC\n"
     ]
    }
   ],
   "source": [
    "height, width, net_array = incoming_frames[-1]\n",
    "arr = short_array_to_numpy(height, width, net_array)\n",
    "\n",
    "def centikelvin_to_celsius(t):\n",
    "    return (t - 27315) / 100\n",
    "\n",
    "def to_fahrenheit(ck):\n",
    "    c = centikelvin_to_celsius(ck)\n",
    "    return c * 9 / 5 + 32\n",
    "\n",
    "# get the max image temp\n",
    "print(\"maximum temp {:.2f} ºF / {:.2f} ºC\".format(\n",
    "    to_fahrenheit(arr.max()), centikelvin_to_celsius(arr.max())))\n",
    "# get the average image temp\n",
    "print(\"average temp {:.2f} ºF / {:.2f} ºC\".format(\n",
    "    to_fahrenheit(arr.mean()), centikelvin_to_celsius(arr.mean())))"
   ]
  },
  {
   "cell_type": "code",
   "execution_count": null,
   "metadata": {},
   "outputs": [],
   "source": []
  }
 ],
 "metadata": {
  "kernelspec": {
   "display_name": "Python 3",
   "language": "python",
   "name": "python3"
  },
  "language_info": {
   "codemirror_mode": {
    "name": "ipython",
    "version": 3
   },
   "file_extension": ".py",
   "mimetype": "text/x-python",
   "name": "python",
   "nbconvert_exporter": "python",
   "pygments_lexer": "ipython3",
   "version": "3.6.4"
  }
 },
 "nbformat": 4,
 "nbformat_minor": 2
}
